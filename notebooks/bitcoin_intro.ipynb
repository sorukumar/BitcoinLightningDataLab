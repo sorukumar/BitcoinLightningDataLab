{
 "cells": [
  {
   "cell_type": "markdown",
   "id": "8acdb11f-839c-4331-bcac-539655150532",
   "metadata": {},
   "source": [
    "# Introduction to Bitcoin: Digital Gold for the Internet Age\n",
    "\n",
    "## What is Bitcoin?\n",
    "\n",
    "Imagine if you could send gold through the internet as easily as sending an email. That's the basic idea behind Bitcoin! It's digital money that you can send to anyone, anywhere in the world, without needing a bank.\n",
    "\n",
    "\n",
    "## How Does Bitcoin Work?\n",
    "\n",
    "Bitcoin works on three big ideas:\n",
    "\n",
    "1. The Blockchain: A big, public list of all transactions ever made.\n",
    "2. Mining: A way to add new transactions to the list and create new bitcoins.\n",
    "3. Cryptography: Fancy math that keeps everything secure.\n",
    "\n",
    "Let's look at each of these:\n",
    "\n"
   ]
  },
  {
   "cell_type": "markdown",
   "id": "f8b1ed48-ca72-4a84-b9cd-94abb5e3a6a4",
   "metadata": {},
   "source": [
    "\n",
    "### The Blockchain\n",
    "\n",
    "Think of the blockchain like a big, shared notebook. Every time someone sends bitcoins, it's written down in this notebook. Everyone can see the notebook, so it's hard to cheat.\n",
    "\n",
    "Let's visualize a simple blockchain:"
   ]
  },
  {
   "cell_type": "code",
   "execution_count": 5,
   "id": "8af52255-5078-43f2-a046-8c29d34a5743",
   "metadata": {},
   "outputs": [
    {
     "data": {
      "image/png": "[encoded data removed]",
      "text/plain": [
       "<Figure size 1000x200 with 1 Axes>"
      ]
     },
     "metadata": {},
     "output_type": "display_data"
    }
   ],
   "source": [
    "import matplotlib.pyplot as plt\n",
    "import networkx as nx\n",
    "\n",
    "def visualize_blockchain(num_blocks=5):\n",
    "  G = nx.DiGraph()\n",
    "  G.add_edges_from([(i, i+1) for i in range(num_blocks-1)])\n",
    "  \n",
    "  pos = {i: (i, 0) for i in range(num_blocks)}\n",
    "  fig, ax = plt.subplots(figsize=(10, 2))\n",
    "  \n",
    "  nx.draw(G, pos, ax=ax, node_color='lightblue', node_size=3000, node_shape='s',\n",
    "          arrows=True, arrowsize=20, arrowstyle='->')\n",
    "  \n",
    "  labels = {i: f\"Block {i}\" for i in range(num_blocks)}\n",
    "  nx.draw_networkx_labels(G, pos, labels, font_size=10, font_weight='bold')\n",
    "  \n",
    "  ax.set_title(\"Simple Blockchain Visualization\")\n",
    "  ax.axis('off')\n",
    "  fig.tight_layout(pad=1.0)\n",
    "  plt.show()\n",
    "\n",
    "visualize_blockchain()"
   ]
  },
  {
   "cell_type": "markdown",
   "id": "9ca59265-8404-434f-944a-86812a918a90",
   "metadata": {},
   "source": [
    "### Mining\n",
    "\n",
    "Mining is like a giant, global game of Sudoku. Miners try to solve a tough math problem. The first one to solve it gets to add the next page to our big notebook (the blockchain) and receives some new bitcoins as a reward.\n",
    "\n",
    "### Cryptography\n",
    "\n",
    "Cryptography is the magic that keeps Bitcoin secure. It's like having an unbreakable safe for your digital money. Let's see a simple example of how a cryptographic hash function works:"
   ]
  },
  {
   "cell_type": "code",
   "execution_count": null,
   "id": "99a5d049-6d4d-4fd5-9c65-b721e9288e0c",
   "metadata": {},
   "outputs": [],
   "source": []
  },
  {
   "cell_type": "code",
   "execution_count": 2,
   "id": "d26b32ba-fb64-4547-8540-d5a7b0e61739",
   "metadata": {},
   "outputs": [
    {
     "name": "stdout",
     "output_type": "stream",
     "text": [
      "Message: Hello, Bitcoin!\n",
      "Hash: 8a208c3f523f64f8a52434688d9ca442483cd3007a108fd79325a0fab9b71376\n",
      "\n",
      "Message: Hello, Bitcoin?\n",
      "Hash: 5968a0a38635aa884d2418d7aa739e24747e44f1389c32880b311fcb9772b0db\n",
      "\n",
      "Message: Mining is fun!\n",
      "Hash: 1c2903ee0c4a93f772498caaab84bb77342805203222c3a739d478abde8e9202\n",
      "\n"
     ]
    }
   ],
   "source": [
    "import hashlib\n",
    "\n",
    "def simple_hash(message):\n",
    "    return hashlib.sha256(message.encode()).hexdigest()\n",
    "\n",
    "# Let's try hashing some messages\n",
    "messages = [\"Hello, Bitcoin!\", \"Hello, Bitcoin?\", \"Mining is fun!\"]\n",
    "\n",
    "for msg in messages:\n",
    "    print(f\"Message: {msg}\")\n",
    "    print(f\"Hash: {simple_hash(msg)}\\n\")"
   ]
  },
  {
   "cell_type": "markdown",
   "id": "9eaedca5-f952-4213-8774-a4945d5b1298",
   "metadata": {},
   "source": [
    "## What Did We Learn?\n",
    "\n",
    "1. Bitcoin is digital money that works without banks.\n",
    "2. The blockchain is like a big, public notebook of all Bitcoin transactions.\n",
    "3. Mining is how new bitcoins are created and how transactions are added to the blockchain.\n",
    "4. Cryptography keeps everything secure, using complex math in clever ways.\n",
    "\n",
    "Bitcoin might seem complicated, but at its heart, it's a creative solution to sending value over the internet without needing to trust any single person or company. It's math and code working together to create internet money!"
   ]
  },
  {
   "cell_type": "markdown",
   "id": "cd19de30-1869-447c-b49b-c9e272ffd430",
   "metadata": {},
   "source": []
  }
 ],
 "metadata": {
  "kernelspec": {
   "display_name": "Python 3 (ipykernel)",
   "language": "python",
   "name": "python3"
  },
  "language_info": {
   "codemirror_mode": {
    "name": "ipython",
    "version": 3
   },
   "file_extension": ".py",
   "mimetype": "text/x-python",
   "name": "python",
   "nbconvert_exporter": "python",
   "pygments_lexer": "ipython3",
   "version": "3.12.4"
  }
 },
 "nbformat": 4,
 "nbformat_minor": 5
}
