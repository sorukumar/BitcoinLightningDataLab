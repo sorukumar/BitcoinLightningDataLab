{
 "cells": [
  {
   "cell_type": "markdown",
   "id": "2452b5c6-6649-42f6-bc24-66dae9158043",
   "metadata": {},
   "source": [
    "# Bitcoin Wallets: Your Gateway to the Blockchain\n",
    "\n",
    "## What is a Bitcoin Wallet?\n",
    "\n",
    "Think of a Bitcoin wallet like a magical envelope. It can receive money from anyone who knows its address, and it can send money if you know the secret spell (private key). Let's create one!"
   ]
  },
  {
   "cell_type": "code",
   "execution_count": null,
   "id": "6f4ce27b-296e-48b9-83f8-c0b2d86c5739",
   "metadata": {},
   "outputs": [],
   "source": [
    "import hashlib\n",
    "import ecdsa\n",
    "import base58\n",
    "import matplotlib.pyplot as plt\n",
    "\n",
    "class Wallet:\n",
    "    def __init__(self):\n",
    "        self.private_key, self.public_key = self.generate_key_pair()\n",
    "        self.address = self.generate_address()\n",
    "        self.balance = 0\n",
    "        self.transactions = []\n",
    "\n",
    "    def generate_key_pair(self):\n",
    "        sk = ecdsa.SigningKey.generate(curve=ecdsa.SECP256k1)\n",
    "        vk = sk.get_verifying_key()\n",
    "        return sk.to_string().hex(), vk.to_string().hex()\n",
    "\n",
    "    def generate_address(self):\n",
    "        public_key_bytes = bytes.fromhex(self.public_key)\n",
    "        sha256_hash = hashlib.sha256(public_key_bytes).digest()\n",
    "        ripemd160_hash = hashlib.new('ripemd160', sha256_hash).digest()\n",
    "        version_byte = b'\\x00'\n",
    "        payload = version_byte + ripemd160_hash\n",
    "        checksum = hashlib.sha256(hashlib.sha256(payload).digest()).digest()[:4]\n",
    "        binary_address = payload + checksum\n",
    "        return base58.b58encode(binary_address).decode('utf-8')\n",
    "\n",
    "    def create_transaction(self, recipient_address, amount):\n",
    "        if amount > self.balance:\n",
    "            raise ValueError(\"Not enough funds!\")\n",
    "        \n",
    "        transaction = {\n",
    "            \"from\": self.address,\n",
    "            \"to\": recipient_address,\n",
    "            \"amount\": amount\n",
    "        }\n",
    "        self.balance -= amount\n",
    "        self.transactions.append(transaction)\n",
    "        return transaction"
   ]
  },
  {
   "cell_type": "markdown",
   "id": "f97194b6-d496-4efe-971c-df6dff42ca31",
   "metadata": {},
   "source": [
    "## Let's Create a Wallet and Use It!"
   ]
  },
  {
   "cell_type": "code",
   "execution_count": null,
   "id": "66d337ad-4941-4279-b4ad-0ce29a6261f6",
   "metadata": {},
   "outputs": [],
   "source": [
    "# Create a new wallet\n",
    "my_wallet = Wallet()\n",
    "print(f\"Your Bitcoin Address: {my_wallet.address}\")\n",
    "\n",
    "# Let's pretend we received some bitcoin\n",
    "my_wallet.balance = 10\n",
    "\n",
    "# Now let's make some transactions\n",
    "recipients = [\"1BvBMSEYstWetqTFn5Au4m4GFg7xJaNVN2\", \"3J98t1WpEZ73CNmQviecrnyiWrnqRhWNLy\", \"bc1qar0srrr7xfkvy5l643lydnw9re59gtzzwf5mdq\"]\n",
    "for i, recipient in enumerate(recipients, 1):\n",
    "    amount = i * 0.5\n",
    "    try:\n",
    "        tx = my_wallet.create_transaction(recipient, amount)\n",
    "        print(f\"Sent {amount} BTC to {recipient}\")\n",
    "    except ValueError as e:\n",
    "        print(f\"Transaction failed: {e}\")\n",
    "\n",
    "print(f\"Final balance: {my_wallet.balance} BTC\")\n",
    "\n",
    "# Visualize the transactions\n",
    "plt.figure(figsize=(10, 6))\n",
    "plt.bar(range(len(my_wallet.transactions)), [tx['amount'] for tx in my_wallet.transactions])\n",
    "plt.title(\"Your Bitcoin Transactions\")\n",
    "plt.xlabel(\"Transaction Number\")\n",
    "plt.ylabel(\"Amount (BTC)\")\n",
    "plt.show()"
   ]
  },
  {
   "cell_type": "markdown",
   "id": "52d405d3-e38d-4fbc-b71a-e9fbbe61598b",
   "metadata": {},
   "source": [
    "## What Did We Learn?\n",
    "\n",
    "1. A Bitcoin wallet is essentially a pair of keys: a public key (your address) and a private key (your secret spell).\n",
    "2. The wallet address is derived from the public key through a series of cryptographic operations.\n",
    "3. Transactions decrease your wallet balance.\n",
    "4. In real life, transactions aren't final until they're included in a mined block.\n",
    "\n",
    "Remember, in the real Bitcoin network:\n",
    "- You don't actually store Bitcoin in your wallet. The wallet just stores your keys.\n",
    "- The blockchain keeps track of all transactions and balances.\n",
    "- Your private key should never be shared - it's the spell that allows spending from your address!\n",
    "\n",
    "This simple wallet demonstrates the basic concepts, but real Bitcoin wallets have many more features for security and usability."
   ]
  }
 ],
 "metadata": {
  "kernelspec": {
   "display_name": "Python 3 (ipykernel)",
   "language": "python",
   "name": "python3"
  },
  "language_info": {
   "codemirror_mode": {
    "name": "ipython",
    "version": 3
   },
   "file_extension": ".py",
   "mimetype": "text/x-python",
   "name": "python",
   "nbconvert_exporter": "python",
   "pygments_lexer": "ipython3",
   "version": "3.12.4"
  }
 },
 "nbformat": 4,
 "nbformat_minor": 5
}
