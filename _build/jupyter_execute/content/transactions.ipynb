{
 "cells": [
  {
   "cell_type": "markdown",
   "id": "a8598d35-e641-482a-b09c-f7e2f3a74ed4",
   "metadata": {},
   "source": [
    "# Bitcoin Transactions: The Building Blocks of the Blockchain\n",
    "\n",
    "## What is a Bitcoin Transaction?\n",
    "\n",
    "Think of a Bitcoin transaction like writing a check for digital money. When you write a check, you specify:\n",
    "- **Where the money comes from** (your account)\n",
    "- **Where it’s going** (the recipient)\n",
    "- **How much** is being transferred\n",
    "\n",
    "Bitcoin transactions work similarly but with added security measures to ensure that only the rightful owner can spend their funds."
   ]
  },
  {
   "cell_type": "markdown",
   "id": "6b605bd7-0a20-4b5f-b9a0-7e01ce6a89b9",
   "metadata": {},
   "source": [
    "## The Anatomy of a Transaction\n",
    "\n",
    "A Bitcoin transaction has three main parts:\n",
    "1. Inputs: Previous transactions you're spending from (like your account balance)\n",
    "2. Outputs: Where the Bitcoin is going (like writing out who gets paid on a check)\n",
    "3. Amount: How much Bitcoin is being moved\n",
    "\n",
    "Here’s a simple representation of a transaction:\n",
    "┌───────────────┐\n",
    "│   Transaction │\n",
    "├───────────────┤\n",
    "│ Inputs        │\n",
    "│ - Previous TX │\n",
    "│ - Output Index│\n",
    "├───────────────┤\n",
    "│ Outputs       │\n",
    "│ - Amount      │\n",
    "│ - Recipient   │\n",
    "└───────────────┘"
   ]
  },
  {
   "cell_type": "markdown",
   "id": "0c98811c-5665-42de-8735-c3f928e86d97",
   "metadata": {},
   "source": [
    "## Let's Create a Transaction!\n",
    "\n",
    "Now, let's write some code to create a simple Bitcoin transaction. This code will demonstrate how to structure a transaction with inputs and outputs.\n"
   ]
  },
  {
   "cell_type": "code",
   "execution_count": 1,
   "id": "0e0263f9-0820-41bd-aff3-484d333365db",
   "metadata": {},
   "outputs": [],
   "source": [
    "class TransactionInput:\n",
    "    def __init__(self, prev_tx_hash, output_index):\n",
    "        self.prev_tx_hash = prev_tx_hash\n",
    "        self.output_index = output_index\n",
    "\n",
    "class TransactionOutput:\n",
    "    def __init__(self, amount, recipient_address):\n",
    "        self.amount = amount\n",
    "        self.recipient_address = recipient_address\n",
    "\n",
    "class Transaction:\n",
    "    def __init__(self):\n",
    "        self.inputs = []\n",
    "        self.outputs = []\n",
    "    \n",
    "    def add_input(self, prev_tx_hash, output_index):\n",
    "        self.inputs.append(TransactionInput(prev_tx_hash, output_index))\n",
    "    \n",
    "    def add_output(self, amount, recipient_address):\n",
    "        self.outputs.append(TransactionOutput(amount, recipient_address))"
   ]
  },
  {
   "cell_type": "code",
   "execution_count": 2,
   "id": "a3d65914-3969-4c2b-b23e-ef8f2c248be2",
   "metadata": {},
   "outputs": [
    {
     "name": "stdout",
     "output_type": "stream",
     "text": [
      "Transaction Inputs (Piggy banks we're breaking):\n",
      "  Previous Transaction: abc123, Output Index: 0\n",
      "\n",
      "Transaction Outputs (New piggy banks we're creating):\n",
      "  Amount: 0.5 BTC, Recipient: 1BvBMSEYstWetqTFn5Au4m4GFg7xJaNVN2\n",
      "  Amount: 0.4 BTC, Recipient: 1Alice9876543210\n"
     ]
    }
   ],
   "source": [
    "# Let's create a transaction\n",
    "tx = Transaction()\n",
    "tx.add_input(\"abc123\", 0)  # We're spending from a previous transaction with hash 'abc123', output index 0\n",
    "tx.add_output(0.5, \"1BvBMSEYstWetqTFn5Au4m4GFg7xJaNVN2\")  # Sending 0.5 BTC to Bob\n",
    "tx.add_output(0.4, \"1Alice9876543210\")  # Our change: 0.4 BTC back to Alice\n",
    "\n",
    "print(\"Transaction Inputs (Piggy banks we're breaking):\")\n",
    "for inp in tx.inputs:\n",
    "    print(f\"  Previous Transaction: {inp.prev_tx_hash}, Output Index: {inp.output_index}\")\n",
    "\n",
    "print(\"\\nTransaction Outputs (New piggy banks we're creating):\")\n",
    "for out in tx.outputs:\n",
    "    print(f\"  Amount: {out.amount} BTC, Recipient: {out.recipient_address}\")\n"
   ]
  },
  {
   "cell_type": "markdown",
   "id": "51dc19c5-5bab-4a5e-9ee0-ab3aae88fe63",
   "metadata": {},
   "source": [
    "### Key Parts of the Code Explained\n",
    "\n",
    "1. **TransactionInput Class**: Represents an input in a Bitcoin transaction.\n",
    "   - **Purpose**: It holds the details of the previous transaction being spent.\n",
    "   - **Attributes**:\n",
    "     - `prev_tx_hash`: The hash of the previous transaction.\n",
    "     - `output_index`: The specific output from that transaction being used.\n",
    "\n",
    "2. **TransactionOutput Class**: Represents an output in a Bitcoin transaction.\n",
    "   - **Purpose**: It defines where the Bitcoin is going.\n",
    "   - **Attributes**:\n",
    "     - `amount`: The amount of Bitcoin being sent.\n",
    "     - `recipient_address`: The address of the recipient.\n",
    "\n",
    "3. **Transaction Class**: Manages the entire transaction.\n",
    "   - **Purpose**: It collects inputs and outputs to form a complete transaction.\n",
    "   - **Methods**:\n",
    "     - `add_input()`: Adds an input to the transaction.\n",
    "     - `add_output()`: Adds an output to the transaction."
   ]
  },
  {
   "cell_type": "markdown",
   "id": "f4f372f9-2544-4341-97af-c0fd0eece889",
   "metadata": {},
   "source": [
    "## Signing the Transaction\n",
    "\n",
    "In the real world, you sign a check to authorize it. In Bitcoin, we use a digital signature. It's like a super secure, unforgeable signature that proves you have the right to spend from those inputs.\n",
    "\n",
    "Let’s see how we can generate a key pair and sign our transaction."
   ]
  },
  {
   "cell_type": "code",
   "execution_count": 3,
   "id": "6f36503c-764b-4a92-83e0-3d763a44fb98",
   "metadata": {},
   "outputs": [
    {
     "name": "stdout",
     "output_type": "stream",
     "text": [
      "Private Key: e414c5449d940c84c2ef64252509ed4e09f8178c0354ce6ab572c0ed38f5d078\n",
      "Public Key: 0b8f55f55ccc1721c172ff2b4aa7ddb221a91d5e6e2cc90058be3fd5d077bd51183e32c148ebb739184031219ce15196d5c1c4fa56590148d98978532a416a37\n",
      "\n",
      "Transaction Signature: 9d8ed4446ef1380677f662186d7bbb1bc36c26979eac8481491fed57881e3828...\n"
     ]
    }
   ],
   "source": [
    "import hashlib\n",
    "import ecdsa\n",
    "import os\n",
    "\n",
    "def generate_keypair():\n",
    "    \"\"\"Generate a new ECDSA key pair.\"\"\"\n",
    "    sk = ecdsa.SigningKey.generate(curve=ecdsa.SECP256k1)\n",
    "    vk = sk.get_verifying_key()\n",
    "    return sk.to_string().hex(), vk.to_string().hex()\n",
    "\n",
    "def sign_transaction(transaction, private_key):\n",
    "    # In reality, we would serialize the entire transaction\n",
    "    # Here, we're just hashing a string representation for simplicity\n",
    "    tx_hash = hashlib.sha256(str(transaction.__dict__).encode()).hexdigest()\n",
    "    \n",
    "    sk = ecdsa.SigningKey.from_string(bytes.fromhex(private_key), curve=ecdsa.SECP256k1)\n",
    "    signature = sk.sign(tx_hash.encode())\n",
    "    \n",
    "    return signature.hex()\n",
    "\n",
    "# Generate a proper key pair\n",
    "private_key, public_key = generate_keypair()\n",
    "\n",
    "# Sign our transaction\n",
    "signature = sign_transaction(tx, private_key)\n",
    "print(f\"Private Key: {private_key}\")\n",
    "print(f\"Public Key: {public_key}\")\n",
    "print(f\"\\nTransaction Signature: {signature[:64]}...\")  # Showing first 64 chars for brevity"
   ]
  },
  {
   "cell_type": "markdown",
   "id": "42178deb-cbfa-4920-92f4-b1de472163b1",
   "metadata": {},
   "source": [
    "### Key Parts of the Signing Code Explained\n",
    "\n",
    "1. **generate_keypair()**: \n",
    "   - **Purpose**: Generates a new ECDSA (Elliptic Curve Digital Signature Algorithm) key pair.\n",
    "   - **Returns**: A private key (used for signing) and a public key (used for verification).\n",
    "\n",
    "2. **sign_transaction(transaction, private_key)**:\n",
    "   - **Purpose**: Signs the transaction using the private key.\n",
    "   - **Process**:\n",
    "     - It creates a hash of the transaction using SHA-256.\n",
    "     - It uses the private key to generate a digital signature for that hash.\n",
    "   - **Returns**: The digital signature in hexadecimal format.\n",
    "\n",
    "This process ensures that only the owner of the private key can authorize the transaction, providing security and authenticity."
   ]
  },
  {
   "cell_type": "markdown",
   "id": "66fa070c-d1d6-48a8-aa5c-33009d5e12ef",
   "metadata": {},
   "source": [
    "## Verifying Transactions\n",
    "\n",
    "Just as a bank verifies your signature on a check, the Bitcoin network needs to verify the digital signature on a transaction. Here's how it works:"
   ]
  },
  {
   "cell_type": "code",
   "execution_count": 4,
   "id": "b43631ea-fa30-49c9-a8fa-5516f78f57dd",
   "metadata": {},
   "outputs": [],
   "source": [
    "def verify_signature(transaction, signature, public_key):\n",
    "    tx_hash = hashlib.sha256(str(transaction.__dict__).encode()).hexdigest()\n",
    "    \n",
    "    vk = ecdsa.VerifyingKey.from_string(bytes.fromhex(public_key), curve=ecdsa.SECP256k1)\n",
    "    try:\n",
    "        return vk.verify(bytes.fromhex(signature), tx_hash.encode())\n",
    "    except:\n",
    "        return False"
   ]
  },
  {
   "cell_type": "code",
   "execution_count": 5,
   "id": "6d7d9b8c-8d36-45c1-af6e-5ce39697398c",
   "metadata": {},
   "outputs": [
    {
     "name": "stdout",
     "output_type": "stream",
     "text": [
      "Is the signature valid? True\n"
     ]
    }
   ],
   "source": [
    "# Let's verify our transaction\n",
    "is_valid = verify_signature(tx, signature, public_key)\n",
    "print(f\"Is the signature valid? {is_valid}\")"
   ]
  },
  {
   "cell_type": "markdown",
   "id": "6d8e236b-9e45-4301-ac6c-f4d46d727230",
   "metadata": {},
   "source": [
    "### Key Parts of the Verification Code Explained\n",
    "\n",
    "1. **verify_signature(transaction, signature, public_key)**:\n",
    "   - **Purpose**: Verifies the digital signature of a transaction.\n",
    "   - **Process**:\n",
    "     - It creates a hash of the transaction using SHA-256.\n",
    "     - It uses the public key to check if the signature matches the hash.\n",
    "   - **Returns**: A boolean indicating whether the signature is valid.\n",
    "\n",
    "This verification process ensures that the transaction is legitimate and that the person spending the Bitcoin is authorized to do so."
   ]
  },
  {
   "cell_type": "markdown",
   "id": "f6bf6fb9-fbae-4360-930c-7ecf031bbab3",
   "metadata": {},
   "source": [
    "## Visualizing the Transaction\n",
    "\n",
    "Let's visualize our transaction to better understand its structure. This will help illustrate how inputs and outputs are connected."
   ]
  },
  {
   "cell_type": "code",
   "execution_count": 6,
   "id": "a9d4c605-64db-4b0e-a88e-07e5586fa824",
   "metadata": {},
   "outputs": [
    {
     "data": {
      "image/png": "[encoded data removed]",
      "text/plain": [
       "<Figure size 640x480 with 1 Axes>"
      ]
     },
     "metadata": {},
     "output_type": "display_data"
    }
   ],
   "source": [
    "import matplotlib.pyplot as plt\n",
    "import networkx as nx\n",
    "\n",
    "def visualize_transaction(transaction):\n",
    "    G = nx.DiGraph()\n",
    "    for i, inp in enumerate(transaction.inputs):\n",
    "        G.add_edge(f\"Input {i}\\n{inp.prev_tx_hash[:8]}...\", \"Transaction\")\n",
    "    for i, out in enumerate(transaction.outputs):\n",
    "        G.add_edge(\"Transaction\", f\"Output {i}\\n{out.amount} BTC\\n{out.recipient_address[:8]}...\")\n",
    "    \n",
    "    pos = nx.spring_layout(G)\n",
    "    nx.draw(G, pos, with_labels=True, node_color='lightblue', \n",
    "            node_size=5000, font_size=8, font_weight='bold')\n",
    "    \n",
    "    plt.title(\"Bitcoin Transaction Structure\")\n",
    "    plt.axis('off')\n",
    "    plt.show()\n",
    "\n",
    "visualize_transaction(tx)"
   ]
  },
  {
   "cell_type": "markdown",
   "id": "4849ad28-4480-4f08-ba4f-80b7205112f8",
   "metadata": {},
   "source": [
    "## What Did We Learn?\n",
    "\n",
    "1. **A Bitcoin transaction is like a digital check**: It specifies where the money comes from and where it’s going.\n",
    "\n",
    "2. **Inputs reference previous transactions**: They show where the Bitcoin is coming from.\n",
    "\n",
    "3. **Outputs specify where the Bitcoin is going**: They indicate the amount and recipient.\n",
    "\n",
    "4. **We sign transactions to prove ownership**: This is similar to signing a check.\n",
    "\n",
    "5. **The network verifies signatures**: Ensuring the transaction is legitimate.\n",
    "\n",
    "6. **ECDSA provides security**: It allows you to prove it’s you without revealing your private key.\n",
    "\n",
    "7. **Transactions can have multiple inputs and outputs**: This allows for complex money movements, but at its core, it’s about securely transferring value.\n"
   ]
  },
  {
   "cell_type": "markdown",
   "id": "64727ff7-d71e-4e29-a817-ab64e3b43142",
   "metadata": {},
   "source": [
    "## Quick Check: Did You Get It?\n",
    "\n",
    "Let’s see if you caught the main ideas about Bitcoin transactions:\n",
    "\n",
    "1. What are the three main parts of a Bitcoin transaction? (Hint: Think of a check)\n",
    "\n",
    "2. What is the purpose of a digital signature in Bitcoin? (Hint: It’s like signing a check)\n",
    "\n",
    "3. What do we call the previous transactions that inputs reference? (Hint: They show where the Bitcoin is coming from)\n",
    "\n",
    "Think about your answers, then check below!\n",
    "\n",
    "<details>\n",
    "<summary>Click to see the answers</summary>\n",
    "\n",
    "1. Inputs, Outputs, and Amount.\n",
    "2. To prove ownership and authorize the transaction.\n",
    "3. Previous transactions.\n",
    "\n",
    "Congratulations on completing the transactions chapter!"
   ]
  }
 ],
 "metadata": {
  "kernelspec": {
   "display_name": "Python 3 (ipykernel)",
   "language": "python",
   "name": "python3"
  },
  "language_info": {
   "codemirror_mode": {
    "name": "ipython",
    "version": 3
   },
   "file_extension": ".py",
   "mimetype": "text/x-python",
   "name": "python",
   "nbconvert_exporter": "python",
   "pygments_lexer": "ipython3",
   "version": "3.12.4"
  }
 },
 "nbformat": 4,
 "nbformat_minor": 5
}